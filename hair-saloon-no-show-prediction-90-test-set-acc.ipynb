{
 "cells": [
  {
   "cell_type": "markdown",
   "id": "61dbda9f",
   "metadata": {},
   "source": [
    "## ***`HAIR SALON PROJECT`*** \n",
    "   ### **`BY:`** \n",
    "***`Thompson, Tavleen & Sachin: TTSaloon`***"
   ]
  },
  {
   "cell_type": "markdown",
   "id": "ab9c58a9",
   "metadata": {},
   "source": [
    "### `About Dataset / No-Show Prediction`\n",
    "***`Context:`***\n",
    "No-shows are a big problem for hair salons the same as airlines and medical facilities. Excessive no-shows increase costs and wait times for businesses and all other customers alike. A No-show prediction service would allow hair salons to select from a variety of treatment options at the time of the booking such as requiring a non-refundable deposit or scheduling the appointment at a different time, location or with a different service provider such that the potential no-show would have less business and customer experience impact.\n",
    "\n",
    "***`Content:`***\n",
    "This is a dataset that can be used to predict appointment no-shows. The data includes bookings and cancellation information to determine whether a given booking resulted in a \"no-show\" wherein the client either didn't show up at all or canceled the appointment within 48 hours of the planned booking (i.e., an out-of-policy cancellation). The data consists primarily of attributes of the appointment booking itself and excludes client details or details on the staff member providing the service.\n",
    "\n",
    "***`Acknowledgements:`***\n",
    "The data was used with the permission of an actual hair salon in Toronto, Canada. It covers a time series from March to July of 2018. I will also like to acknowledge ***`FREDERICK FERGUSON`*** who updated this last piece of work on Kaggle."
   ]
  },
  {
   "cell_type": "markdown",
   "id": "c575ba81",
   "metadata": {},
   "source": [
    "\n",
    "***`Data Description/Prediction Criteria`***\n",
    "\n",
    "The main task is to predict the bookings most likely to end up with a no-show. Here we posess the information about the client’s previous bookings, cancelations and no-shows as well as service and cost information.\n",
    "\n",
    "`book_tod:` The booking time of day.\n",
    "\n",
    "`book_dow:` The booking day-of-week.\n",
    "\n",
    "`book_category:` The booked service category (COLOR or STYLE)\n",
    "\n",
    "`book_staff:` The staff member to provide the service.\n",
    "\n",
    "`last_day_services:` The number of services provided to the client on their last visit before the current booking or today whichever is greater.\n",
    "\n",
    "`last_receipt_tot:` The amount paid by the client on their last visit before the current booking or today whichever is greater.\n",
    "\n",
    "`last_noshow:` Did the client no-show on their last booking before the current booking or today whichever is greater? (0 - no, 1 - yes)\n",
    "\n",
    "`last_prod_flag:` Did the client buy a retail product on their last booking before the current booking or today whichever is greater? (0 - no, 1 - yes)\n",
    "\n",
    "`last_cumrev:` The client’s cumulative service revenue as of their last booking before the current booking or today whichever is greater.\n",
    "\n",
    "`last_cumbook:` The client’s cumulative number of bookings as of their last booking before the current booking or today whichever is greater.\n",
    "\n",
    "`last_cumstyle:` The client’s cumulative number of STYLE bookings as of their last booking before the current booking or today whichever is greater.\n",
    "\n",
    "`last_cumcolor:` The client’s cumulative number of COLOR bookings as of their last booking before the current booking or today whichever is greater.\n",
    "\n",
    "`last_cumprod:` The client’s cumulative number of bookings with retail product purchases as of their last booking before the current booking or today whichever is greater.\n",
    "\n",
    "`last_cumcancel:` The client’s cumulative number of appointment cancellations as of their last booking before the current booking or today whichever is greater.\n",
    "\n",
    "`last_cumnoshow:` The client’s cumulative number of no-shows as of their last booking before the current booking or today whichever is greater.\n"
   ]
  },
  {
   "cell_type": "markdown",
   "id": "3991a902",
   "metadata": {},
   "source": [
    "### Import NumPy and Pandas Libraries"
   ]
  },
  {
   "cell_type": "code",
   "execution_count": 1,
   "id": "81bd5a80",
   "metadata": {
    "_cell_guid": "b1076dfc-b9ad-4769-8c92-a6c4dae69d19",
    "_uuid": "8f2839f25d086af736a60e9eeb907d3b93b6e0e5",
    "execution": {
     "iopub.execute_input": "2021-12-13T12:15:25.077702Z",
     "iopub.status.busy": "2021-12-13T12:15:25.073543Z",
     "iopub.status.idle": "2021-12-13T12:15:25.082848Z",
     "shell.execute_reply": "2021-12-13T12:15:25.081999Z",
     "shell.execute_reply.started": "2021-12-13T11:49:29.429351Z"
    },
    "papermill": {
     "duration": 0.041217,
     "end_time": "2021-12-13T12:15:25.083046",
     "exception": false,
     "start_time": "2021-12-13T12:15:25.041829",
     "status": "completed"
    },
    "tags": []
   },
   "outputs": [],
   "source": [
    "import numpy as np # linear algebra\n",
    "import pandas as pd # data processing, CSV file I/O (e.g. pd.read_csv)"
   ]
  },
  {
   "cell_type": "markdown",
   "id": "ea9ef20f",
   "metadata": {},
   "source": [
    "### Load the Dataset and drops two columns named 'Unnamed: 0' and 'last_tod' from the DataFrame df."
   ]
  },
  {
   "cell_type": "code",
   "execution_count": 4,
   "id": "f47aefd4",
   "metadata": {
    "execution": {
     "iopub.execute_input": "2021-12-13T12:15:25.130604Z",
     "iopub.status.busy": "2021-12-13T12:15:25.129858Z",
     "iopub.status.idle": "2021-12-13T12:15:25.192266Z",
     "shell.execute_reply": "2021-12-13T12:15:25.191707Z",
     "shell.execute_reply.started": "2021-12-13T11:49:31.105323Z"
    },
    "papermill": {
     "duration": 0.088352,
     "end_time": "2021-12-13T12:15:25.192427",
     "exception": false,
     "start_time": "2021-12-13T12:15:25.104075",
     "status": "completed"
    },
    "tags": []
   },
   "outputs": [
    {
     "data": {
      "text/html": [
       "<div>\n",
       "<style scoped>\n",
       "    .dataframe tbody tr th:only-of-type {\n",
       "        vertical-align: middle;\n",
       "    }\n",
       "\n",
       "    .dataframe tbody tr th {\n",
       "        vertical-align: top;\n",
       "    }\n",
       "\n",
       "    .dataframe thead th {\n",
       "        text-align: right;\n",
       "    }\n",
       "</style>\n",
       "<table border=\"1\" class=\"dataframe\">\n",
       "  <thead>\n",
       "    <tr style=\"text-align: right;\">\n",
       "      <th></th>\n",
       "      <th>book_tod</th>\n",
       "      <th>book_dow</th>\n",
       "      <th>book_category</th>\n",
       "      <th>book_staff</th>\n",
       "      <th>last_category</th>\n",
       "      <th>last_staff</th>\n",
       "      <th>last_day_services</th>\n",
       "      <th>last_receipt_tot</th>\n",
       "      <th>last_dow</th>\n",
       "      <th>last_noshow</th>\n",
       "      <th>last_prod_flag</th>\n",
       "      <th>last_cumrev</th>\n",
       "      <th>last_cumbook</th>\n",
       "      <th>last_cumstyle</th>\n",
       "      <th>last_cumcolor</th>\n",
       "      <th>last_cumprod</th>\n",
       "      <th>last_cumcancel</th>\n",
       "      <th>last_cumnoshow</th>\n",
       "      <th>noshow</th>\n",
       "      <th>recency</th>\n",
       "    </tr>\n",
       "  </thead>\n",
       "  <tbody>\n",
       "    <tr>\n",
       "      <th>0</th>\n",
       "      <td>afternoon</td>\n",
       "      <td>Wednesday</td>\n",
       "      <td>STYLE</td>\n",
       "      <td>JJ</td>\n",
       "      <td>NaN</td>\n",
       "      <td>NaN</td>\n",
       "      <td>0</td>\n",
       "      <td>0.0</td>\n",
       "      <td>NaN</td>\n",
       "      <td>0</td>\n",
       "      <td>0</td>\n",
       "      <td>0</td>\n",
       "      <td>0</td>\n",
       "      <td>0</td>\n",
       "      <td>0</td>\n",
       "      <td>0</td>\n",
       "      <td>0</td>\n",
       "      <td>0</td>\n",
       "      <td>0</td>\n",
       "      <td>0</td>\n",
       "    </tr>\n",
       "    <tr>\n",
       "      <th>1</th>\n",
       "      <td>morning</td>\n",
       "      <td>Wednesday</td>\n",
       "      <td>COLOR</td>\n",
       "      <td>JOANNE</td>\n",
       "      <td>NaN</td>\n",
       "      <td>NaN</td>\n",
       "      <td>0</td>\n",
       "      <td>0.0</td>\n",
       "      <td>NaN</td>\n",
       "      <td>0</td>\n",
       "      <td>0</td>\n",
       "      <td>0</td>\n",
       "      <td>0</td>\n",
       "      <td>0</td>\n",
       "      <td>0</td>\n",
       "      <td>0</td>\n",
       "      <td>0</td>\n",
       "      <td>0</td>\n",
       "      <td>0</td>\n",
       "      <td>0</td>\n",
       "    </tr>\n",
       "    <tr>\n",
       "      <th>2</th>\n",
       "      <td>NaN</td>\n",
       "      <td>Wednesday</td>\n",
       "      <td>STYLE</td>\n",
       "      <td>JJ</td>\n",
       "      <td>COLOR</td>\n",
       "      <td>JOANNE</td>\n",
       "      <td>2</td>\n",
       "      <td>262.0</td>\n",
       "      <td>Wednesday</td>\n",
       "      <td>0</td>\n",
       "      <td>1</td>\n",
       "      <td>262</td>\n",
       "      <td>2</td>\n",
       "      <td>1</td>\n",
       "      <td>1</td>\n",
       "      <td>2</td>\n",
       "      <td>0</td>\n",
       "      <td>0</td>\n",
       "      <td>0</td>\n",
       "      <td>35</td>\n",
       "    </tr>\n",
       "    <tr>\n",
       "      <th>3</th>\n",
       "      <td>afternoon</td>\n",
       "      <td>Thursday</td>\n",
       "      <td>STYLE</td>\n",
       "      <td>KELLY</td>\n",
       "      <td>NaN</td>\n",
       "      <td>NaN</td>\n",
       "      <td>0</td>\n",
       "      <td>0.0</td>\n",
       "      <td>NaN</td>\n",
       "      <td>0</td>\n",
       "      <td>0</td>\n",
       "      <td>0</td>\n",
       "      <td>0</td>\n",
       "      <td>0</td>\n",
       "      <td>0</td>\n",
       "      <td>0</td>\n",
       "      <td>0</td>\n",
       "      <td>0</td>\n",
       "      <td>0</td>\n",
       "      <td>0</td>\n",
       "    </tr>\n",
       "    <tr>\n",
       "      <th>4</th>\n",
       "      <td>evening</td>\n",
       "      <td>Saturday</td>\n",
       "      <td>STYLE</td>\n",
       "      <td>KELLY</td>\n",
       "      <td>STYLE</td>\n",
       "      <td>KELLY</td>\n",
       "      <td>1</td>\n",
       "      <td>35.0</td>\n",
       "      <td>Thursday</td>\n",
       "      <td>0</td>\n",
       "      <td>0</td>\n",
       "      <td>35</td>\n",
       "      <td>1</td>\n",
       "      <td>1</td>\n",
       "      <td>0</td>\n",
       "      <td>0</td>\n",
       "      <td>0</td>\n",
       "      <td>0</td>\n",
       "      <td>0</td>\n",
       "      <td>9</td>\n",
       "    </tr>\n",
       "  </tbody>\n",
       "</table>\n",
       "</div>"
      ],
      "text/plain": [
       "    book_tod   book_dow book_category book_staff last_category last_staff  \\\n",
       "0  afternoon  Wednesday         STYLE         JJ           NaN        NaN   \n",
       "1    morning  Wednesday         COLOR     JOANNE           NaN        NaN   \n",
       "2        NaN  Wednesday         STYLE         JJ         COLOR     JOANNE   \n",
       "3  afternoon   Thursday         STYLE      KELLY           NaN        NaN   \n",
       "4    evening   Saturday         STYLE      KELLY         STYLE      KELLY   \n",
       "\n",
       "   last_day_services  last_receipt_tot   last_dow  last_noshow  \\\n",
       "0                  0               0.0        NaN            0   \n",
       "1                  0               0.0        NaN            0   \n",
       "2                  2             262.0  Wednesday            0   \n",
       "3                  0               0.0        NaN            0   \n",
       "4                  1              35.0   Thursday            0   \n",
       "\n",
       "   last_prod_flag  last_cumrev  last_cumbook  last_cumstyle  last_cumcolor  \\\n",
       "0               0            0             0              0              0   \n",
       "1               0            0             0              0              0   \n",
       "2               1          262             2              1              1   \n",
       "3               0            0             0              0              0   \n",
       "4               0           35             1              1              0   \n",
       "\n",
       "   last_cumprod  last_cumcancel  last_cumnoshow  noshow  recency  \n",
       "0             0               0               0       0        0  \n",
       "1             0               0               0       0        0  \n",
       "2             2               0               0       0       35  \n",
       "3             0               0               0       0        0  \n",
       "4             0               0               0       0        9  "
      ]
     },
     "execution_count": 4,
     "metadata": {},
     "output_type": "execute_result"
    }
   ],
   "source": [
    "df = pd.read_csv('./hair-salon-no-show-data-set/hair_salon_no_show_wrangled_df.csv')\n",
    "df = df.drop(['Unnamed: 0','last_tod'],axis=1)\n",
    "df.head()"
   ]
  },
  {
   "cell_type": "markdown",
   "id": "681ac268",
   "metadata": {},
   "source": [
    "### Output a DataFrame containing the statistics for all numerical columns in your DataFrame df"
   ]
  },
  {
   "cell_type": "code",
   "execution_count": 5,
   "id": "cd090bd2",
   "metadata": {
    "execution": {
     "iopub.execute_input": "2021-12-13T12:15:25.236453Z",
     "iopub.status.busy": "2021-12-13T12:15:25.235495Z",
     "iopub.status.idle": "2021-12-13T12:15:25.294668Z",
     "shell.execute_reply": "2021-12-13T12:15:25.294039Z",
     "shell.execute_reply.started": "2021-12-13T11:50:42.414836Z"
    },
    "papermill": {
     "duration": 0.082136,
     "end_time": "2021-12-13T12:15:25.294820",
     "exception": false,
     "start_time": "2021-12-13T12:15:25.212684",
     "status": "completed"
    },
    "tags": []
   },
   "outputs": [
    {
     "data": {
      "text/html": [
       "<div>\n",
       "<style scoped>\n",
       "    .dataframe tbody tr th:only-of-type {\n",
       "        vertical-align: middle;\n",
       "    }\n",
       "\n",
       "    .dataframe tbody tr th {\n",
       "        vertical-align: top;\n",
       "    }\n",
       "\n",
       "    .dataframe thead th {\n",
       "        text-align: right;\n",
       "    }\n",
       "</style>\n",
       "<table border=\"1\" class=\"dataframe\">\n",
       "  <thead>\n",
       "    <tr style=\"text-align: right;\">\n",
       "      <th></th>\n",
       "      <th>last_day_services</th>\n",
       "      <th>last_receipt_tot</th>\n",
       "      <th>last_noshow</th>\n",
       "      <th>last_prod_flag</th>\n",
       "      <th>last_cumrev</th>\n",
       "      <th>last_cumbook</th>\n",
       "      <th>last_cumstyle</th>\n",
       "      <th>last_cumcolor</th>\n",
       "      <th>last_cumprod</th>\n",
       "      <th>last_cumcancel</th>\n",
       "      <th>last_cumnoshow</th>\n",
       "      <th>noshow</th>\n",
       "      <th>recency</th>\n",
       "    </tr>\n",
       "  </thead>\n",
       "  <tbody>\n",
       "    <tr>\n",
       "      <th>count</th>\n",
       "      <td>1952.000000</td>\n",
       "      <td>1952.000000</td>\n",
       "      <td>1952.000000</td>\n",
       "      <td>1952.000000</td>\n",
       "      <td>1952.000000</td>\n",
       "      <td>1952.000000</td>\n",
       "      <td>1952.000000</td>\n",
       "      <td>1952.000000</td>\n",
       "      <td>1952.000000</td>\n",
       "      <td>1952.000000</td>\n",
       "      <td>1952.000000</td>\n",
       "      <td>1952.000000</td>\n",
       "      <td>1952.000000</td>\n",
       "    </tr>\n",
       "    <tr>\n",
       "      <th>mean</th>\n",
       "      <td>0.545082</td>\n",
       "      <td>35.782679</td>\n",
       "      <td>0.076332</td>\n",
       "      <td>0.114242</td>\n",
       "      <td>111.258197</td>\n",
       "      <td>1.906762</td>\n",
       "      <td>1.520492</td>\n",
       "      <td>0.325307</td>\n",
       "      <td>0.487193</td>\n",
       "      <td>0.280225</td>\n",
       "      <td>0.422643</td>\n",
       "      <td>0.114754</td>\n",
       "      <td>14.402152</td>\n",
       "    </tr>\n",
       "    <tr>\n",
       "      <th>std</th>\n",
       "      <td>0.658514</td>\n",
       "      <td>59.371877</td>\n",
       "      <td>0.265597</td>\n",
       "      <td>0.318186</td>\n",
       "      <td>207.927702</td>\n",
       "      <td>3.315854</td>\n",
       "      <td>2.756585</td>\n",
       "      <td>0.827646</td>\n",
       "      <td>1.261275</td>\n",
       "      <td>0.853646</td>\n",
       "      <td>1.319786</td>\n",
       "      <td>0.318807</td>\n",
       "      <td>21.079495</td>\n",
       "    </tr>\n",
       "    <tr>\n",
       "      <th>min</th>\n",
       "      <td>0.000000</td>\n",
       "      <td>0.000000</td>\n",
       "      <td>0.000000</td>\n",
       "      <td>0.000000</td>\n",
       "      <td>0.000000</td>\n",
       "      <td>0.000000</td>\n",
       "      <td>0.000000</td>\n",
       "      <td>0.000000</td>\n",
       "      <td>0.000000</td>\n",
       "      <td>0.000000</td>\n",
       "      <td>0.000000</td>\n",
       "      <td>0.000000</td>\n",
       "      <td>0.000000</td>\n",
       "    </tr>\n",
       "    <tr>\n",
       "      <th>25%</th>\n",
       "      <td>0.000000</td>\n",
       "      <td>0.000000</td>\n",
       "      <td>0.000000</td>\n",
       "      <td>0.000000</td>\n",
       "      <td>0.000000</td>\n",
       "      <td>0.000000</td>\n",
       "      <td>0.000000</td>\n",
       "      <td>0.000000</td>\n",
       "      <td>0.000000</td>\n",
       "      <td>0.000000</td>\n",
       "      <td>0.000000</td>\n",
       "      <td>0.000000</td>\n",
       "      <td>0.000000</td>\n",
       "    </tr>\n",
       "    <tr>\n",
       "      <th>50%</th>\n",
       "      <td>0.000000</td>\n",
       "      <td>0.000000</td>\n",
       "      <td>0.000000</td>\n",
       "      <td>0.000000</td>\n",
       "      <td>0.000000</td>\n",
       "      <td>1.000000</td>\n",
       "      <td>0.000000</td>\n",
       "      <td>0.000000</td>\n",
       "      <td>0.000000</td>\n",
       "      <td>0.000000</td>\n",
       "      <td>0.000000</td>\n",
       "      <td>0.000000</td>\n",
       "      <td>1.000000</td>\n",
       "    </tr>\n",
       "    <tr>\n",
       "      <th>75%</th>\n",
       "      <td>1.000000</td>\n",
       "      <td>60.000000</td>\n",
       "      <td>0.000000</td>\n",
       "      <td>0.000000</td>\n",
       "      <td>132.000000</td>\n",
       "      <td>2.000000</td>\n",
       "      <td>2.000000</td>\n",
       "      <td>0.000000</td>\n",
       "      <td>0.000000</td>\n",
       "      <td>0.000000</td>\n",
       "      <td>0.000000</td>\n",
       "      <td>0.000000</td>\n",
       "      <td>27.000000</td>\n",
       "    </tr>\n",
       "    <tr>\n",
       "      <th>max</th>\n",
       "      <td>3.000000</td>\n",
       "      <td>382.800000</td>\n",
       "      <td>1.000000</td>\n",
       "      <td>1.000000</td>\n",
       "      <td>1276.000000</td>\n",
       "      <td>20.000000</td>\n",
       "      <td>18.000000</td>\n",
       "      <td>7.000000</td>\n",
       "      <td>11.000000</td>\n",
       "      <td>8.000000</td>\n",
       "      <td>9.000000</td>\n",
       "      <td>1.000000</td>\n",
       "      <td>133.000000</td>\n",
       "    </tr>\n",
       "  </tbody>\n",
       "</table>\n",
       "</div>"
      ],
      "text/plain": [
       "       last_day_services  last_receipt_tot  last_noshow  last_prod_flag  \\\n",
       "count        1952.000000       1952.000000  1952.000000     1952.000000   \n",
       "mean            0.545082         35.782679     0.076332        0.114242   \n",
       "std             0.658514         59.371877     0.265597        0.318186   \n",
       "min             0.000000          0.000000     0.000000        0.000000   \n",
       "25%             0.000000          0.000000     0.000000        0.000000   \n",
       "50%             0.000000          0.000000     0.000000        0.000000   \n",
       "75%             1.000000         60.000000     0.000000        0.000000   \n",
       "max             3.000000        382.800000     1.000000        1.000000   \n",
       "\n",
       "       last_cumrev  last_cumbook  last_cumstyle  last_cumcolor  last_cumprod  \\\n",
       "count  1952.000000   1952.000000    1952.000000    1952.000000   1952.000000   \n",
       "mean    111.258197      1.906762       1.520492       0.325307      0.487193   \n",
       "std     207.927702      3.315854       2.756585       0.827646      1.261275   \n",
       "min       0.000000      0.000000       0.000000       0.000000      0.000000   \n",
       "25%       0.000000      0.000000       0.000000       0.000000      0.000000   \n",
       "50%       0.000000      1.000000       0.000000       0.000000      0.000000   \n",
       "75%     132.000000      2.000000       2.000000       0.000000      0.000000   \n",
       "max    1276.000000     20.000000      18.000000       7.000000     11.000000   \n",
       "\n",
       "       last_cumcancel  last_cumnoshow       noshow      recency  \n",
       "count     1952.000000     1952.000000  1952.000000  1952.000000  \n",
       "mean         0.280225        0.422643     0.114754    14.402152  \n",
       "std          0.853646        1.319786     0.318807    21.079495  \n",
       "min          0.000000        0.000000     0.000000     0.000000  \n",
       "25%          0.000000        0.000000     0.000000     0.000000  \n",
       "50%          0.000000        0.000000     0.000000     1.000000  \n",
       "75%          0.000000        0.000000     0.000000    27.000000  \n",
       "max          8.000000        9.000000     1.000000   133.000000  "
      ]
     },
     "execution_count": 5,
     "metadata": {},
     "output_type": "execute_result"
    }
   ],
   "source": [
    "df.describe()"
   ]
  },
  {
   "cell_type": "markdown",
   "id": "bdb10809",
   "metadata": {},
   "source": [
    "### Understanding the structure of your DataFrame, checking for missing values, and assessing the memory footprint of your data"
   ]
  },
  {
   "cell_type": "code",
   "execution_count": 6,
   "id": "c955c3fe",
   "metadata": {
    "execution": {
     "iopub.execute_input": "2021-12-13T12:15:25.340419Z",
     "iopub.status.busy": "2021-12-13T12:15:25.339757Z",
     "iopub.status.idle": "2021-12-13T12:15:25.358975Z",
     "shell.execute_reply": "2021-12-13T12:15:25.358125Z",
     "shell.execute_reply.started": "2021-12-13T11:49:35.607134Z"
    },
    "papermill": {
     "duration": 0.043623,
     "end_time": "2021-12-13T12:15:25.359168",
     "exception": false,
     "start_time": "2021-12-13T12:15:25.315545",
     "status": "completed"
    },
    "tags": []
   },
   "outputs": [
    {
     "name": "stdout",
     "output_type": "stream",
     "text": [
      "<class 'pandas.core.frame.DataFrame'>\n",
      "RangeIndex: 1952 entries, 0 to 1951\n",
      "Data columns (total 20 columns):\n",
      " #   Column             Non-Null Count  Dtype  \n",
      "---  ------             --------------  -----  \n",
      " 0   book_tod           1717 non-null   object \n",
      " 1   book_dow           1952 non-null   object \n",
      " 2   book_category      1952 non-null   object \n",
      " 3   book_staff         1952 non-null   object \n",
      " 4   last_category      1003 non-null   object \n",
      " 5   last_staff         1003 non-null   object \n",
      " 6   last_day_services  1952 non-null   int64  \n",
      " 7   last_receipt_tot   1952 non-null   float64\n",
      " 8   last_dow           1003 non-null   object \n",
      " 9   last_noshow        1952 non-null   int64  \n",
      " 10  last_prod_flag     1952 non-null   int64  \n",
      " 11  last_cumrev        1952 non-null   int64  \n",
      " 12  last_cumbook       1952 non-null   int64  \n",
      " 13  last_cumstyle      1952 non-null   int64  \n",
      " 14  last_cumcolor      1952 non-null   int64  \n",
      " 15  last_cumprod       1952 non-null   int64  \n",
      " 16  last_cumcancel     1952 non-null   int64  \n",
      " 17  last_cumnoshow     1952 non-null   int64  \n",
      " 18  noshow             1952 non-null   int64  \n",
      " 19  recency            1952 non-null   int64  \n",
      "dtypes: float64(1), int64(12), object(7)\n",
      "memory usage: 305.1+ KB\n"
     ]
    }
   ],
   "source": [
    "df.info()"
   ]
  },
  {
   "cell_type": "markdown",
   "id": "91138f0d",
   "metadata": {},
   "source": [
    "### List of unique values for each column in your DataFrame using for loop to iterates through each column name"
   ]
  },
  {
   "cell_type": "code",
   "execution_count": 7,
   "id": "a656e2cb",
   "metadata": {
    "execution": {
     "iopub.execute_input": "2021-12-13T12:15:25.405842Z",
     "iopub.status.busy": "2021-12-13T12:15:25.405106Z",
     "iopub.status.idle": "2021-12-13T12:15:25.426853Z",
     "shell.execute_reply": "2021-12-13T12:15:25.427733Z",
     "shell.execute_reply.started": "2021-12-13T11:49:41.545622Z"
    },
    "papermill": {
     "duration": 0.046919,
     "end_time": "2021-12-13T12:15:25.428002",
     "exception": false,
     "start_time": "2021-12-13T12:15:25.381083",
     "status": "completed"
    },
    "tags": []
   },
   "outputs": [
    {
     "name": "stdout",
     "output_type": "stream",
     "text": [
      "book_tod: ['afternoon' 'morning' nan 'evening']\n",
      "book_dow: ['Wednesday' 'Thursday' 'Saturday' 'Friday' 'Tuesday' 'Sunday' 'Monday']\n",
      "book_category: ['STYLE' 'COLOR' 'MISC']\n",
      "book_staff: ['JJ' 'JOANNE' 'KELLY' 'BECKY' 'HOUSE' 'SINEAD' 'TANYA']\n",
      "last_category: [nan 'COLOR' 'STYLE' 'MISC']\n",
      "last_staff: [nan 'JOANNE' 'KELLY' 'BECKY' 'HOUSE' 'JJ' 'SINEAD' 'TANYA']\n",
      "last_day_services: [0 2 1 3]\n",
      "last_receipt_tot: [  0.   262.    35.    55.    76.   100.4  230.    30.    50.    82.\n",
      "  40.   119.6   96.6   52.   202.   137.    70.    95.   120.    70.73\n",
      " 119.8   65.   282.   182.    60.   110.4  154.25  90.   115.   102.\n",
      " 125.4   80.   170.   195.   250.    83.8  210.    85.   105.    59.4\n",
      "  75.   210.75 172.73  81.05  32.   160.   100.   190.   122.   245.\n",
      " 113.5  167.    68.45 242.   132.4   45.   255.55 130.   101.4  220.\n",
      " 382.8   63.45 135.   225.   172.   215.   199.8  111.4  125.   260.\n",
      " 339.   108.31 117.39  78.8  180.   182.8  192.    15.   147.   300.\n",
      " 114.44 228.25 182.73  67.   350.   110.33 102.5  196.3  143.4   24.3\n",
      " 110.   187.   170.6  145.     5.   132.   140.    90.5  248.25 100.73\n",
      "  51.   287.    62.    25.    80.73 152.   155.45 306.1  259.55 127.45\n",
      " 206.5  162.1  170.73 199.4  281.2   93.2  197.8  110.8  214.1   94.15\n",
      " 130.4  106.  ]\n",
      "last_dow: [nan 'Wednesday' 'Thursday' 'Saturday' 'Friday' 'Tuesday' 'Sunday'\n",
      " 'Monday']\n",
      "last_noshow: [0 1]\n",
      "last_prod_flag: [0 1]\n",
      "last_cumrev: [   0  262   35   90  145   30   80  230   55   82   40   70  100  130\n",
      "  134  189  309  446  498   95  215   65  135  282  182  234  160   60\n",
      "  120  360  250   85  115  170  184  286  150  365  290  340  390  440\n",
      "  490  540  790  840  890  940  195  210  155   75  110  205  240  140\n",
      "  352   32   67  242  344  132  302  402  502  554  604  844  946 1001\n",
      " 1123 1173  220  167  214  266  316  180  185  324   45  314  396  526\n",
      "  364  280  330  380  430  530  580  700  950 1000 1100 1200  410  460\n",
      "  505  555  605  765  865  917 1037  338  553  655  710  304  225  350\n",
      "  470  342  444  320  254  236  190  300  400  592  642  692  942  992\n",
      " 1092   15   50  147  467  152  297  157    5  476  570  620  670  720\n",
      "  772  824  876  102  192  294  202  450  622  722  165   51  222  122\n",
      "  295  425  475  172  414  239  426  274  376  618  217  482  312  270\n",
      "  315  420  465  164  510  560  610  860  960 1010 1060  480  760  200\n",
      "  288  204  292  448  500  552  654  914  966 1068 1120 1172 1276  319\n",
      "  394  586  636  758  808  930]\n",
      "last_cumbook: [ 0  2  1  3  4  5  7  9  6  8 10 11 12 13 14 15 16 18 19 17 20]\n",
      "last_cumstyle: [ 0  1  2  3  4  5  6  7  8  9 10 11 12 13 14 15 16 17 18]\n",
      "last_cumcolor: [0 1 2 3 4 5 6 7]\n",
      "last_cumprod: [ 0  2  1  4  5  3  8  9 11  6  7]\n",
      "last_cumcancel: [0 1 2 3 4 5 6 8]\n",
      "last_cumnoshow: [0 1 2 3 4 5 6 7 8 9]\n",
      "noshow: [0 1]\n",
      "recency: [  0  35   9  14  36  15  17  42   5  41  44  99  64  29  33  22   8  30\n",
      "  13  26   3  56  37  84  51  27  28  45  34  32  49  40   6  48  43  94\n",
      "  54  23  20  21  38  63  55   2  11   4  19   1  39  18  50  57  52   7\n",
      "  12  24  71  60  72  31  46  16  78  81  66  74  59  10  47 121  25  98\n",
      " 100  69  67  58  65 120  70  77 105  88 111  62  76 133  91  95 103 116\n",
      " 112  83 113]\n"
     ]
    }
   ],
   "source": [
    "for i in df.columns:\n",
    "    print(i+\":\",df[i].unique())"
   ]
  },
  {
   "cell_type": "markdown",
   "id": "27e4a094",
   "metadata": {},
   "source": [
    "### Identifys which numeric features in the dataset are most strongly correlated with the \"noshow\" column, which can provide insights into potential predictors of no-show appointments."
   ]
  },
  {
   "cell_type": "code",
   "execution_count": 11,
   "id": "d4bde023",
   "metadata": {},
   "outputs": [
    {
     "data": {
      "text/plain": [
       "last_cumnoshow       0.214799\n",
       "last_cumrev          0.184577\n",
       "last_cumstyle        0.174626\n",
       "last_noshow          0.162844\n",
       "last_cumbook         0.149282\n",
       "last_cumcancel       0.136035\n",
       "recency              0.059878\n",
       "last_prod_flag       0.023193\n",
       "last_receipt_tot     0.023062\n",
       "last_day_services    0.021733\n",
       "last_cumcolor        0.021623\n",
       "last_cumprod         0.009090\n",
       "Name: noshow, dtype: float64"
      ]
     },
     "execution_count": 11,
     "metadata": {},
     "output_type": "execute_result"
    }
   ],
   "source": [
    "numeric_df = df.select_dtypes(include=[np.number]) # Select only numeric columns\n",
    "cancel_corr = numeric_df.corr()[\"noshow\"]\n",
    "cancel_corr.abs().sort_values(ascending=False)[1:]\n"
   ]
  },
  {
   "cell_type": "markdown",
   "id": "7bf3122a",
   "metadata": {},
   "source": [
    "### Generates a heatmap visualization of the correlation matrix for the numeric columns in the DataFrame df. It provides a graphical representation of the correlations between different numeric columns in the DataFrame df, which can help identify patterns and relationships in the data."
   ]
  },
  {
   "cell_type": "code",
   "execution_count": 13,
   "id": "bbcdfce9",
   "metadata": {},
   "outputs": [
    {
     "data": {
      "image/png": "[encoded data removed]",
      "text/plain": [
       "<Figure size 2400x1200 with 2 Axes>"
      ]
     },
     "metadata": {},
     "output_type": "display_data"
    }
   ],
   "source": [
    "numeric_df = df.select_dtypes(include=[np.number]) # Select only numeric columns\n",
    "corr = numeric_df.corr()\n",
    "\n",
    "plt.figure(figsize=(24, 12))\n",
    "sns.heatmap(corr, annot=True, linewidths=1)\n",
    "plt.show()"
   ]
  },
  {
   "cell_type": "markdown",
   "id": "0bb3d6de",
   "metadata": {},
   "source": [
    "### Checks for null values in the DataFrame df and creates a DataFrame named null containing information about the null values"
   ]
  },
  {
   "cell_type": "code",
   "execution_count": 14,
   "id": "f30854c0",
   "metadata": {
    "execution": {
     "iopub.execute_input": "2021-12-13T12:15:27.919344Z",
     "iopub.status.busy": "2021-12-13T12:15:27.918643Z",
     "iopub.status.idle": "2021-12-13T12:15:27.931853Z",
     "shell.execute_reply": "2021-12-13T12:15:27.931236Z",
     "shell.execute_reply.started": "2021-12-13T11:52:59.880548Z"
    },
    "papermill": {
     "duration": 0.050952,
     "end_time": "2021-12-13T12:15:27.932024",
     "exception": false,
     "start_time": "2021-12-13T12:15:27.881072",
     "status": "completed"
    },
    "tags": []
   },
   "outputs": [
    {
     "data": {
      "text/html": [
       "<div>\n",
       "<style scoped>\n",
       "    .dataframe tbody tr th:only-of-type {\n",
       "        vertical-align: middle;\n",
       "    }\n",
       "\n",
       "    .dataframe tbody tr th {\n",
       "        vertical-align: top;\n",
       "    }\n",
       "\n",
       "    .dataframe thead th {\n",
       "        text-align: right;\n",
       "    }\n",
       "</style>\n",
       "<table border=\"1\" class=\"dataframe\">\n",
       "  <thead>\n",
       "    <tr style=\"text-align: right;\">\n",
       "      <th></th>\n",
       "      <th>Null Values</th>\n",
       "      <th>Percentage Null Values</th>\n",
       "    </tr>\n",
       "  </thead>\n",
       "  <tbody>\n",
       "    <tr>\n",
       "      <th>last_category</th>\n",
       "      <td>949</td>\n",
       "      <td>48.616803</td>\n",
       "    </tr>\n",
       "    <tr>\n",
       "      <th>last_staff</th>\n",
       "      <td>949</td>\n",
       "      <td>48.616803</td>\n",
       "    </tr>\n",
       "    <tr>\n",
       "      <th>last_dow</th>\n",
       "      <td>949</td>\n",
       "      <td>48.616803</td>\n",
       "    </tr>\n",
       "    <tr>\n",
       "      <th>book_tod</th>\n",
       "      <td>235</td>\n",
       "      <td>12.038934</td>\n",
       "    </tr>\n",
       "    <tr>\n",
       "      <th>last_cumbook</th>\n",
       "      <td>0</td>\n",
       "      <td>0.000000</td>\n",
       "    </tr>\n",
       "    <tr>\n",
       "      <th>noshow</th>\n",
       "      <td>0</td>\n",
       "      <td>0.000000</td>\n",
       "    </tr>\n",
       "    <tr>\n",
       "      <th>last_cumnoshow</th>\n",
       "      <td>0</td>\n",
       "      <td>0.000000</td>\n",
       "    </tr>\n",
       "    <tr>\n",
       "      <th>last_cumcancel</th>\n",
       "      <td>0</td>\n",
       "      <td>0.000000</td>\n",
       "    </tr>\n",
       "    <tr>\n",
       "      <th>last_cumprod</th>\n",
       "      <td>0</td>\n",
       "      <td>0.000000</td>\n",
       "    </tr>\n",
       "    <tr>\n",
       "      <th>last_cumcolor</th>\n",
       "      <td>0</td>\n",
       "      <td>0.000000</td>\n",
       "    </tr>\n",
       "    <tr>\n",
       "      <th>last_cumstyle</th>\n",
       "      <td>0</td>\n",
       "      <td>0.000000</td>\n",
       "    </tr>\n",
       "    <tr>\n",
       "      <th>last_prod_flag</th>\n",
       "      <td>0</td>\n",
       "      <td>0.000000</td>\n",
       "    </tr>\n",
       "    <tr>\n",
       "      <th>last_cumrev</th>\n",
       "      <td>0</td>\n",
       "      <td>0.000000</td>\n",
       "    </tr>\n",
       "    <tr>\n",
       "      <th>book_dow</th>\n",
       "      <td>0</td>\n",
       "      <td>0.000000</td>\n",
       "    </tr>\n",
       "    <tr>\n",
       "      <th>last_noshow</th>\n",
       "      <td>0</td>\n",
       "      <td>0.000000</td>\n",
       "    </tr>\n",
       "    <tr>\n",
       "      <th>last_receipt_tot</th>\n",
       "      <td>0</td>\n",
       "      <td>0.000000</td>\n",
       "    </tr>\n",
       "    <tr>\n",
       "      <th>last_day_services</th>\n",
       "      <td>0</td>\n",
       "      <td>0.000000</td>\n",
       "    </tr>\n",
       "    <tr>\n",
       "      <th>book_staff</th>\n",
       "      <td>0</td>\n",
       "      <td>0.000000</td>\n",
       "    </tr>\n",
       "    <tr>\n",
       "      <th>book_category</th>\n",
       "      <td>0</td>\n",
       "      <td>0.000000</td>\n",
       "    </tr>\n",
       "    <tr>\n",
       "      <th>recency</th>\n",
       "      <td>0</td>\n",
       "      <td>0.000000</td>\n",
       "    </tr>\n",
       "  </tbody>\n",
       "</table>\n",
       "</div>"
      ],
      "text/plain": [
       "                   Null Values  Percentage Null Values\n",
       "last_category              949               48.616803\n",
       "last_staff                 949               48.616803\n",
       "last_dow                   949               48.616803\n",
       "book_tod                   235               12.038934\n",
       "last_cumbook                 0                0.000000\n",
       "noshow                       0                0.000000\n",
       "last_cumnoshow               0                0.000000\n",
       "last_cumcancel               0                0.000000\n",
       "last_cumprod                 0                0.000000\n",
       "last_cumcolor                0                0.000000\n",
       "last_cumstyle                0                0.000000\n",
       "last_prod_flag               0                0.000000\n",
       "last_cumrev                  0                0.000000\n",
       "book_dow                     0                0.000000\n",
       "last_noshow                  0                0.000000\n",
       "last_receipt_tot             0                0.000000\n",
       "last_day_services            0                0.000000\n",
       "book_staff                   0                0.000000\n",
       "book_category                0                0.000000\n",
       "recency                      0                0.000000"
      ]
     },
     "execution_count": 14,
     "metadata": {},
     "output_type": "execute_result"
    }
   ],
   "source": [
    "# checking for null values \n",
    "null = pd.DataFrame({'Null Values' : df.isna().sum(), 'Percentage Null Values' : (df.isna().sum()) / (df.shape[0]) * (100)})\n",
    "null.sort_values(by=['Null Values'],ascending=False)"
   ]
  },
  {
   "cell_type": "markdown",
   "id": "1cb357cc",
   "metadata": {},
   "source": [
    "### Replacing NaN (missing) values with 0 in specific columns of the DataFrame df. By replacing NaN values with 0, it's assumed that missing values in these columns represent cases where certain categorical information is not available."
   ]
  },
  {
   "cell_type": "code",
   "execution_count": 15,
   "id": "28037d33",
   "metadata": {
    "execution": {
     "iopub.execute_input": "2021-12-13T12:15:27.988725Z",
     "iopub.status.busy": "2021-12-13T12:15:27.987997Z",
     "iopub.status.idle": "2021-12-13T12:15:27.996447Z",
     "shell.execute_reply": "2021-12-13T12:15:27.997007Z",
     "shell.execute_reply.started": "2021-12-13T11:55:30.398918Z"
    },
    "papermill": {
     "duration": 0.038697,
     "end_time": "2021-12-13T12:15:27.997185",
     "exception": false,
     "start_time": "2021-12-13T12:15:27.958488",
     "status": "completed"
    },
    "tags": []
   },
   "outputs": [],
   "source": [
    "df['last_category'] = df['last_category'].replace(np.nan,0)\n",
    "df['last_staff'] = df['last_staff'].replace(np.nan,0)\n",
    "df['last_dow'] = df['last_dow'].replace(np.nan,0)\n",
    "df['book_tod'] = df['book_tod'].replace(np.nan,0)"
   ]
  },
  {
   "cell_type": "code",
   "execution_count": 16,
   "id": "39e61d62",
   "metadata": {
    "execution": {
     "iopub.execute_input": "2021-12-13T12:15:28.054438Z",
     "iopub.status.busy": "2021-12-13T12:15:28.053691Z",
     "iopub.status.idle": "2021-12-13T12:15:28.080419Z",
     "shell.execute_reply": "2021-12-13T12:15:28.081017Z",
     "shell.execute_reply.started": "2021-12-13T11:55:35.092893Z"
    },
    "papermill": {
     "duration": 0.058059,
     "end_time": "2021-12-13T12:15:28.081194",
     "exception": false,
     "start_time": "2021-12-13T12:15:28.023135",
     "status": "completed"
    },
    "tags": []
   },
   "outputs": [
    {
     "data": {
      "text/html": [
       "<div>\n",
       "<style scoped>\n",
       "    .dataframe tbody tr th:only-of-type {\n",
       "        vertical-align: middle;\n",
       "    }\n",
       "\n",
       "    .dataframe tbody tr th {\n",
       "        vertical-align: top;\n",
       "    }\n",
       "\n",
       "    .dataframe thead th {\n",
       "        text-align: right;\n",
       "    }\n",
       "</style>\n",
       "<table border=\"1\" class=\"dataframe\">\n",
       "  <thead>\n",
       "    <tr style=\"text-align: right;\">\n",
       "      <th></th>\n",
       "      <th>book_tod</th>\n",
       "      <th>book_dow</th>\n",
       "      <th>book_category</th>\n",
       "      <th>book_staff</th>\n",
       "      <th>last_category</th>\n",
       "      <th>last_staff</th>\n",
       "      <th>last_day_services</th>\n",
       "      <th>last_receipt_tot</th>\n",
       "      <th>last_dow</th>\n",
       "      <th>last_noshow</th>\n",
       "      <th>last_prod_flag</th>\n",
       "      <th>last_cumrev</th>\n",
       "      <th>last_cumbook</th>\n",
       "      <th>last_cumstyle</th>\n",
       "      <th>last_cumcolor</th>\n",
       "      <th>last_cumprod</th>\n",
       "      <th>last_cumcancel</th>\n",
       "      <th>last_cumnoshow</th>\n",
       "      <th>noshow</th>\n",
       "      <th>recency</th>\n",
       "    </tr>\n",
       "  </thead>\n",
       "  <tbody>\n",
       "    <tr>\n",
       "      <th>0</th>\n",
       "      <td>afternoon</td>\n",
       "      <td>Wednesday</td>\n",
       "      <td>STYLE</td>\n",
       "      <td>JJ</td>\n",
       "      <td>0</td>\n",
       "      <td>0</td>\n",
       "      <td>0</td>\n",
       "      <td>0.0</td>\n",
       "      <td>0</td>\n",
       "      <td>0</td>\n",
       "      <td>0</td>\n",
       "      <td>0</td>\n",
       "      <td>0</td>\n",
       "      <td>0</td>\n",
       "      <td>0</td>\n",
       "      <td>0</td>\n",
       "      <td>0</td>\n",
       "      <td>0</td>\n",
       "      <td>0</td>\n",
       "      <td>0</td>\n",
       "    </tr>\n",
       "    <tr>\n",
       "      <th>1</th>\n",
       "      <td>morning</td>\n",
       "      <td>Wednesday</td>\n",
       "      <td>COLOR</td>\n",
       "      <td>JOANNE</td>\n",
       "      <td>0</td>\n",
       "      <td>0</td>\n",
       "      <td>0</td>\n",
       "      <td>0.0</td>\n",
       "      <td>0</td>\n",
       "      <td>0</td>\n",
       "      <td>0</td>\n",
       "      <td>0</td>\n",
       "      <td>0</td>\n",
       "      <td>0</td>\n",
       "      <td>0</td>\n",
       "      <td>0</td>\n",
       "      <td>0</td>\n",
       "      <td>0</td>\n",
       "      <td>0</td>\n",
       "      <td>0</td>\n",
       "    </tr>\n",
       "    <tr>\n",
       "      <th>2</th>\n",
       "      <td>0</td>\n",
       "      <td>Wednesday</td>\n",
       "      <td>STYLE</td>\n",
       "      <td>JJ</td>\n",
       "      <td>COLOR</td>\n",
       "      <td>JOANNE</td>\n",
       "      <td>2</td>\n",
       "      <td>262.0</td>\n",
       "      <td>Wednesday</td>\n",
       "      <td>0</td>\n",
       "      <td>1</td>\n",
       "      <td>262</td>\n",
       "      <td>2</td>\n",
       "      <td>1</td>\n",
       "      <td>1</td>\n",
       "      <td>2</td>\n",
       "      <td>0</td>\n",
       "      <td>0</td>\n",
       "      <td>0</td>\n",
       "      <td>35</td>\n",
       "    </tr>\n",
       "    <tr>\n",
       "      <th>3</th>\n",
       "      <td>afternoon</td>\n",
       "      <td>Thursday</td>\n",
       "      <td>STYLE</td>\n",
       "      <td>KELLY</td>\n",
       "      <td>0</td>\n",
       "      <td>0</td>\n",
       "      <td>0</td>\n",
       "      <td>0.0</td>\n",
       "      <td>0</td>\n",
       "      <td>0</td>\n",
       "      <td>0</td>\n",
       "      <td>0</td>\n",
       "      <td>0</td>\n",
       "      <td>0</td>\n",
       "      <td>0</td>\n",
       "      <td>0</td>\n",
       "      <td>0</td>\n",
       "      <td>0</td>\n",
       "      <td>0</td>\n",
       "      <td>0</td>\n",
       "    </tr>\n",
       "    <tr>\n",
       "      <th>4</th>\n",
       "      <td>evening</td>\n",
       "      <td>Saturday</td>\n",
       "      <td>STYLE</td>\n",
       "      <td>KELLY</td>\n",
       "      <td>STYLE</td>\n",
       "      <td>KELLY</td>\n",
       "      <td>1</td>\n",
       "      <td>35.0</td>\n",
       "      <td>Thursday</td>\n",
       "      <td>0</td>\n",
       "      <td>0</td>\n",
       "      <td>35</td>\n",
       "      <td>1</td>\n",
       "      <td>1</td>\n",
       "      <td>0</td>\n",
       "      <td>0</td>\n",
       "      <td>0</td>\n",
       "      <td>0</td>\n",
       "      <td>0</td>\n",
       "      <td>9</td>\n",
       "    </tr>\n",
       "    <tr>\n",
       "      <th>...</th>\n",
       "      <td>...</td>\n",
       "      <td>...</td>\n",
       "      <td>...</td>\n",
       "      <td>...</td>\n",
       "      <td>...</td>\n",
       "      <td>...</td>\n",
       "      <td>...</td>\n",
       "      <td>...</td>\n",
       "      <td>...</td>\n",
       "      <td>...</td>\n",
       "      <td>...</td>\n",
       "      <td>...</td>\n",
       "      <td>...</td>\n",
       "      <td>...</td>\n",
       "      <td>...</td>\n",
       "      <td>...</td>\n",
       "      <td>...</td>\n",
       "      <td>...</td>\n",
       "      <td>...</td>\n",
       "      <td>...</td>\n",
       "    </tr>\n",
       "    <tr>\n",
       "      <th>1947</th>\n",
       "      <td>afternoon</td>\n",
       "      <td>Thursday</td>\n",
       "      <td>STYLE</td>\n",
       "      <td>BECKY</td>\n",
       "      <td>0</td>\n",
       "      <td>0</td>\n",
       "      <td>0</td>\n",
       "      <td>0.0</td>\n",
       "      <td>0</td>\n",
       "      <td>0</td>\n",
       "      <td>0</td>\n",
       "      <td>0</td>\n",
       "      <td>0</td>\n",
       "      <td>0</td>\n",
       "      <td>0</td>\n",
       "      <td>0</td>\n",
       "      <td>0</td>\n",
       "      <td>0</td>\n",
       "      <td>0</td>\n",
       "      <td>0</td>\n",
       "    </tr>\n",
       "    <tr>\n",
       "      <th>1948</th>\n",
       "      <td>afternoon</td>\n",
       "      <td>Tuesday</td>\n",
       "      <td>STYLE</td>\n",
       "      <td>BECKY</td>\n",
       "      <td>STYLE</td>\n",
       "      <td>BECKY</td>\n",
       "      <td>1</td>\n",
       "      <td>30.0</td>\n",
       "      <td>Thursday</td>\n",
       "      <td>0</td>\n",
       "      <td>0</td>\n",
       "      <td>30</td>\n",
       "      <td>1</td>\n",
       "      <td>1</td>\n",
       "      <td>0</td>\n",
       "      <td>0</td>\n",
       "      <td>0</td>\n",
       "      <td>0</td>\n",
       "      <td>0</td>\n",
       "      <td>40</td>\n",
       "    </tr>\n",
       "    <tr>\n",
       "      <th>1949</th>\n",
       "      <td>0</td>\n",
       "      <td>Tuesday</td>\n",
       "      <td>STYLE</td>\n",
       "      <td>BECKY</td>\n",
       "      <td>STYLE</td>\n",
       "      <td>BECKY</td>\n",
       "      <td>1</td>\n",
       "      <td>30.0</td>\n",
       "      <td>Thursday</td>\n",
       "      <td>0</td>\n",
       "      <td>0</td>\n",
       "      <td>30</td>\n",
       "      <td>1</td>\n",
       "      <td>1</td>\n",
       "      <td>0</td>\n",
       "      <td>0</td>\n",
       "      <td>0</td>\n",
       "      <td>0</td>\n",
       "      <td>0</td>\n",
       "      <td>40</td>\n",
       "    </tr>\n",
       "    <tr>\n",
       "      <th>1950</th>\n",
       "      <td>afternoon</td>\n",
       "      <td>Tuesday</td>\n",
       "      <td>STYLE</td>\n",
       "      <td>BECKY</td>\n",
       "      <td>STYLE</td>\n",
       "      <td>BECKY</td>\n",
       "      <td>1</td>\n",
       "      <td>50.0</td>\n",
       "      <td>Tuesday</td>\n",
       "      <td>0</td>\n",
       "      <td>0</td>\n",
       "      <td>130</td>\n",
       "      <td>3</td>\n",
       "      <td>3</td>\n",
       "      <td>0</td>\n",
       "      <td>0</td>\n",
       "      <td>1</td>\n",
       "      <td>0</td>\n",
       "      <td>0</td>\n",
       "      <td>28</td>\n",
       "    </tr>\n",
       "    <tr>\n",
       "      <th>1951</th>\n",
       "      <td>0</td>\n",
       "      <td>Tuesday</td>\n",
       "      <td>STYLE</td>\n",
       "      <td>BECKY</td>\n",
       "      <td>STYLE</td>\n",
       "      <td>BECKY</td>\n",
       "      <td>1</td>\n",
       "      <td>50.0</td>\n",
       "      <td>Tuesday</td>\n",
       "      <td>0</td>\n",
       "      <td>0</td>\n",
       "      <td>130</td>\n",
       "      <td>3</td>\n",
       "      <td>3</td>\n",
       "      <td>0</td>\n",
       "      <td>0</td>\n",
       "      <td>1</td>\n",
       "      <td>0</td>\n",
       "      <td>0</td>\n",
       "      <td>28</td>\n",
       "    </tr>\n",
       "  </tbody>\n",
       "</table>\n",
       "<p>1952 rows × 20 columns</p>\n",
       "</div>"
      ],
      "text/plain": [
       "       book_tod   book_dow book_category book_staff last_category last_staff  \\\n",
       "0     afternoon  Wednesday         STYLE         JJ             0          0   \n",
       "1       morning  Wednesday         COLOR     JOANNE             0          0   \n",
       "2             0  Wednesday         STYLE         JJ         COLOR     JOANNE   \n",
       "3     afternoon   Thursday         STYLE      KELLY             0          0   \n",
       "4       evening   Saturday         STYLE      KELLY         STYLE      KELLY   \n",
       "...         ...        ...           ...        ...           ...        ...   \n",
       "1947  afternoon   Thursday         STYLE      BECKY             0          0   \n",
       "1948  afternoon    Tuesday         STYLE      BECKY         STYLE      BECKY   \n",
       "1949          0    Tuesday         STYLE      BECKY         STYLE      BECKY   \n",
       "1950  afternoon    Tuesday         STYLE      BECKY         STYLE      BECKY   \n",
       "1951          0    Tuesday         STYLE      BECKY         STYLE      BECKY   \n",
       "\n",
       "      last_day_services  last_receipt_tot   last_dow  last_noshow  \\\n",
       "0                     0               0.0          0            0   \n",
       "1                     0               0.0          0            0   \n",
       "2                     2             262.0  Wednesday            0   \n",
       "3                     0               0.0          0            0   \n",
       "4                     1              35.0   Thursday            0   \n",
       "...                 ...               ...        ...          ...   \n",
       "1947                  0               0.0          0            0   \n",
       "1948                  1              30.0   Thursday            0   \n",
       "1949                  1              30.0   Thursday            0   \n",
       "1950                  1              50.0    Tuesday            0   \n",
       "1951                  1              50.0    Tuesday            0   \n",
       "\n",
       "      last_prod_flag  last_cumrev  last_cumbook  last_cumstyle  last_cumcolor  \\\n",
       "0                  0            0             0              0              0   \n",
       "1                  0            0             0              0              0   \n",
       "2                  1          262             2              1              1   \n",
       "3                  0            0             0              0              0   \n",
       "4                  0           35             1              1              0   \n",
       "...              ...          ...           ...            ...            ...   \n",
       "1947               0            0             0              0              0   \n",
       "1948               0           30             1              1              0   \n",
       "1949               0           30             1              1              0   \n",
       "1950               0          130             3              3              0   \n",
       "1951               0          130             3              3              0   \n",
       "\n",
       "      last_cumprod  last_cumcancel  last_cumnoshow  noshow  recency  \n",
       "0                0               0               0       0        0  \n",
       "1                0               0               0       0        0  \n",
       "2                2               0               0       0       35  \n",
       "3                0               0               0       0        0  \n",
       "4                0               0               0       0        9  \n",
       "...            ...             ...             ...     ...      ...  \n",
       "1947             0               0               0       0        0  \n",
       "1948             0               0               0       0       40  \n",
       "1949             0               0               0       0       40  \n",
       "1950             0               1               0       0       28  \n",
       "1951             0               1               0       0       28  \n",
       "\n",
       "[1952 rows x 20 columns]"
      ]
     },
     "execution_count": 16,
     "metadata": {},
     "output_type": "execute_result"
    }
   ],
   "source": [
    "df"
   ]
  },
  {
   "cell_type": "code",
   "execution_count": 17,
   "id": "01272298",
   "metadata": {
    "execution": {
     "iopub.execute_input": "2021-12-13T12:15:28.138813Z",
     "iopub.status.busy": "2021-12-13T12:15:28.138064Z",
     "iopub.status.idle": "2021-12-13T12:15:28.144326Z",
     "shell.execute_reply": "2021-12-13T12:15:28.144992Z",
     "shell.execute_reply.started": "2021-12-13T12:00:23.868238Z"
    },
    "papermill": {
     "duration": 0.037379,
     "end_time": "2021-12-13T12:15:28.145173",
     "exception": false,
     "start_time": "2021-12-13T12:15:28.107794",
     "status": "completed"
    },
    "tags": []
   },
   "outputs": [
    {
     "data": {
      "text/plain": [
       "Index(['book_tod', 'book_dow', 'book_category', 'book_staff', 'last_category',\n",
       "       'last_staff', 'last_day_services', 'last_receipt_tot', 'last_dow',\n",
       "       'last_noshow', 'last_prod_flag', 'last_cumrev', 'last_cumbook',\n",
       "       'last_cumstyle', 'last_cumcolor', 'last_cumprod', 'last_cumcancel',\n",
       "       'last_cumnoshow', 'noshow', 'recency'],\n",
       "      dtype='object')"
      ]
     },
     "execution_count": 17,
     "metadata": {},
     "output_type": "execute_result"
    }
   ],
   "source": [
    "df.columns"
   ]
  },
  {
   "cell_type": "code",
   "execution_count": 18,
   "id": "e457bc87",
   "metadata": {
    "execution": {
     "iopub.execute_input": "2021-12-13T12:15:28.204869Z",
     "iopub.status.busy": "2021-12-13T12:15:28.204162Z",
     "iopub.status.idle": "2021-12-13T12:15:28.208325Z",
     "shell.execute_reply": "2021-12-13T12:15:28.208935Z",
     "shell.execute_reply.started": "2021-12-13T12:04:00.476849Z"
    },
    "papermill": {
     "duration": 0.035402,
     "end_time": "2021-12-13T12:15:28.209130",
     "exception": false,
     "start_time": "2021-12-13T12:15:28.173728",
     "status": "completed"
    },
    "tags": []
   },
   "outputs": [],
   "source": [
    "cat_features = ['book_tod','book_dow','book_category','book_staff','last_category','last_staff','last_dow']"
   ]
  },
  {
   "cell_type": "markdown",
   "id": "530e5728",
   "metadata": {},
   "source": [
    "### Using scikit-learn's LabelEncoder from the preprocessing module to encode categorical variables in the DataFrame df. By using LabelEncoder, categorical variables are transformed into numerical labels, which can be fed into machine learning algorithms that require numerical input"
   ]
  },
  {
   "cell_type": "code",
   "execution_count": 19,
   "id": "9722016e",
   "metadata": {
    "execution": {
     "iopub.execute_input": "2021-12-13T12:15:28.267082Z",
     "iopub.status.busy": "2021-12-13T12:15:28.266310Z",
     "iopub.status.idle": "2021-12-13T12:15:28.413956Z",
     "shell.execute_reply": "2021-12-13T12:15:28.414478Z",
     "shell.execute_reply.started": "2021-12-13T12:08:08.430580Z"
    },
    "papermill": {
     "duration": 0.178615,
     "end_time": "2021-12-13T12:15:28.414718",
     "exception": false,
     "start_time": "2021-12-13T12:15:28.236103",
     "status": "completed"
    },
    "tags": []
   },
   "outputs": [],
   "source": [
    "from sklearn import preprocessing\n",
    "le = preprocessing.LabelEncoder()\n",
    "for i in cat_features:\n",
    "    df[i] = df[i].astype('str')\n",
    "    df[i] = le.fit_transform(df[i])"
   ]
  },
  {
   "cell_type": "code",
   "execution_count": 20,
   "id": "b1ccd878",
   "metadata": {
    "execution": {
     "iopub.execute_input": "2021-12-13T12:15:28.487383Z",
     "iopub.status.busy": "2021-12-13T12:15:28.476610Z",
     "iopub.status.idle": "2021-12-13T12:15:28.490794Z",
     "shell.execute_reply": "2021-12-13T12:15:28.491336Z",
     "shell.execute_reply.started": "2021-12-13T12:08:17.996163Z"
    },
    "papermill": {
     "duration": 0.049281,
     "end_time": "2021-12-13T12:15:28.491533",
     "exception": false,
     "start_time": "2021-12-13T12:15:28.442252",
     "status": "completed"
    },
    "tags": []
   },
   "outputs": [
    {
     "name": "stdout",
     "output_type": "stream",
     "text": [
      "<class 'pandas.core.frame.DataFrame'>\n",
      "RangeIndex: 1952 entries, 0 to 1951\n",
      "Data columns (total 20 columns):\n",
      " #   Column             Non-Null Count  Dtype  \n",
      "---  ------             --------------  -----  \n",
      " 0   book_tod           1952 non-null   int32  \n",
      " 1   book_dow           1952 non-null   int32  \n",
      " 2   book_category      1952 non-null   int32  \n",
      " 3   book_staff         1952 non-null   int32  \n",
      " 4   last_category      1952 non-null   int32  \n",
      " 5   last_staff         1952 non-null   int32  \n",
      " 6   last_day_services  1952 non-null   int64  \n",
      " 7   last_receipt_tot   1952 non-null   float64\n",
      " 8   last_dow           1952 non-null   int32  \n",
      " 9   last_noshow        1952 non-null   int64  \n",
      " 10  last_prod_flag     1952 non-null   int64  \n",
      " 11  last_cumrev        1952 non-null   int64  \n",
      " 12  last_cumbook       1952 non-null   int64  \n",
      " 13  last_cumstyle      1952 non-null   int64  \n",
      " 14  last_cumcolor      1952 non-null   int64  \n",
      " 15  last_cumprod       1952 non-null   int64  \n",
      " 16  last_cumcancel     1952 non-null   int64  \n",
      " 17  last_cumnoshow     1952 non-null   int64  \n",
      " 18  noshow             1952 non-null   int64  \n",
      " 19  recency            1952 non-null   int64  \n",
      "dtypes: float64(1), int32(7), int64(12)\n",
      "memory usage: 251.8 KB\n"
     ]
    }
   ],
   "source": [
    "df.info()"
   ]
  },
  {
   "cell_type": "markdown",
   "id": "aab3a74b",
   "metadata": {},
   "source": [
    "### Converting the data type of the 'last_receipt_tot' column in the DataFrame df to integer"
   ]
  },
  {
   "cell_type": "code",
   "execution_count": 21,
   "id": "77fe4526",
   "metadata": {
    "execution": {
     "iopub.execute_input": "2021-12-13T12:15:28.552393Z",
     "iopub.status.busy": "2021-12-13T12:15:28.551344Z",
     "iopub.status.idle": "2021-12-13T12:15:28.558714Z",
     "shell.execute_reply": "2021-12-13T12:15:28.557978Z",
     "shell.execute_reply.started": "2021-12-13T12:08:45.148306Z"
    },
    "papermill": {
     "duration": 0.038765,
     "end_time": "2021-12-13T12:15:28.558883",
     "exception": false,
     "start_time": "2021-12-13T12:15:28.520118",
     "status": "completed"
    },
    "tags": []
   },
   "outputs": [],
   "source": [
    "df['last_receipt_tot'] = df['last_receipt_tot'].astype('int')"
   ]
  },
  {
   "cell_type": "markdown",
   "id": "bbb57b83",
   "metadata": {},
   "source": [
    "### Separating the DataFrame df into feature matrix X and target vector y, where X contains the features (independent variables) and y contains the target variable (dependent variable). By splitting the DataFrame df into feature matrix X and target vector y, we are preparing the data for supervised learning tasks, where X will be used to train the model, and y will be used as the ground truth labels."
   ]
  },
  {
   "cell_type": "code",
   "execution_count": 22,
   "id": "9b3256d5",
   "metadata": {
    "execution": {
     "iopub.execute_input": "2021-12-13T12:15:28.621833Z",
     "iopub.status.busy": "2021-12-13T12:15:28.621132Z",
     "iopub.status.idle": "2021-12-13T12:15:28.627579Z",
     "shell.execute_reply": "2021-12-13T12:15:28.626965Z",
     "shell.execute_reply.started": "2021-12-13T12:10:40.292716Z"
    },
    "papermill": {
     "duration": 0.040748,
     "end_time": "2021-12-13T12:15:28.627739",
     "exception": false,
     "start_time": "2021-12-13T12:15:28.586991",
     "status": "completed"
    },
    "tags": []
   },
   "outputs": [
    {
     "name": "stdout",
     "output_type": "stream",
     "text": [
      "(1952, 19) (1952,)\n"
     ]
    }
   ],
   "source": [
    "X = df.drop(['noshow'], axis=1)\n",
    "y = df['noshow']\n",
    "print(X.shape,y.shape)"
   ]
  },
  {
   "cell_type": "markdown",
   "id": "37ae5229",
   "metadata": {},
   "source": [
    "### Using scikit-learn's train_test_split function to split the feature matrix X and the target vector y into training and testing sets. These arrays contain subsets of the original data, with 75% used for training and 25% used for testing. This split allows for training the machine learning model on the training set and evaluating its performance on the separate testing set."
   ]
  },
  {
   "cell_type": "code",
   "execution_count": 23,
   "id": "4643116a",
   "metadata": {
    "execution": {
     "iopub.execute_input": "2021-12-13T12:15:28.691083Z",
     "iopub.status.busy": "2021-12-13T12:15:28.689777Z",
     "iopub.status.idle": "2021-12-13T12:15:28.756960Z",
     "shell.execute_reply": "2021-12-13T12:15:28.757543Z",
     "shell.execute_reply.started": "2021-12-13T12:10:48.109138Z"
    },
    "papermill": {
     "duration": 0.101365,
     "end_time": "2021-12-13T12:15:28.757800",
     "exception": false,
     "start_time": "2021-12-13T12:15:28.656435",
     "status": "completed"
    },
    "tags": []
   },
   "outputs": [],
   "source": [
    "from sklearn.model_selection import train_test_split\n",
    "X_train, X_test, y_train, y_test = train_test_split(X, y, test_size = 0.25,shuffle=True)"
   ]
  },
  {
   "cell_type": "markdown",
   "id": "cf5b1b42",
   "metadata": {},
   "source": [
    "## Model Training & Evaluation"
   ]
  },
  {
   "cell_type": "markdown",
   "id": "bd4331db",
   "metadata": {},
   "source": [
    "### Importing several classifiers from scikit-learn"
   ]
  },
  {
   "cell_type": "code",
   "execution_count": 9,
   "id": "91af4754",
   "metadata": {
    "execution": {
     "iopub.execute_input": "2021-12-13T12:15:28.823773Z",
     "iopub.status.busy": "2021-12-13T12:15:28.822849Z",
     "iopub.status.idle": "2021-12-13T12:15:29.034626Z",
     "shell.execute_reply": "2021-12-13T12:15:29.035141Z",
     "shell.execute_reply.started": "2021-12-13T12:12:59.891896Z"
    },
    "papermill": {
     "duration": 0.2483,
     "end_time": "2021-12-13T12:15:29.035358",
     "exception": false,
     "start_time": "2021-12-13T12:15:28.787058",
     "status": "completed"
    },
    "tags": []
   },
   "outputs": [],
   "source": [
    "from sklearn.linear_model import LogisticRegression\n",
    "from sklearn.neighbors import KNeighborsClassifier\n",
    "from sklearn.svm import SVC\n",
    "from sklearn.tree import DecisionTreeClassifier\n",
    "from sklearn.ensemble import RandomForestClassifier\n",
    "from sklearn.ensemble import AdaBoostClassifier\n",
    "from sklearn.ensemble import GradientBoostingClassifier\n",
    "from sklearn.metrics import classification_report"
   ]
  },
  {
   "cell_type": "markdown",
   "id": "02d00692",
   "metadata": {},
   "source": [
    "### Training a Logistic Regression classifier (LogisticRegression) using the training data (X_train and y_train), makes predictions on the test data (X_test), and generates a classification report using scikit-learn's classification_report function."
   ]
  },
  {
   "cell_type": "code",
   "execution_count": 24,
   "id": "afe77edb",
   "metadata": {
    "execution": {
     "iopub.execute_input": "2021-12-13T12:15:29.101724Z",
     "iopub.status.busy": "2021-12-13T12:15:29.100521Z",
     "iopub.status.idle": "2021-12-13T12:15:29.131663Z",
     "shell.execute_reply": "2021-12-13T12:15:29.132644Z",
     "shell.execute_reply.started": "2021-12-13T12:11:56.056171Z"
    },
    "papermill": {
     "duration": 0.067524,
     "end_time": "2021-12-13T12:15:29.132972",
     "exception": false,
     "start_time": "2021-12-13T12:15:29.065448",
     "status": "completed"
    },
    "tags": []
   },
   "outputs": [
    {
     "name": "stdout",
     "output_type": "stream",
     "text": [
      "Classification Report : \n",
      "              precision    recall  f1-score   support\n",
      "\n",
      "           0       0.90      0.97      0.93       437\n",
      "           1       0.12      0.04      0.06        51\n",
      "\n",
      "    accuracy                           0.87       488\n",
      "   macro avg       0.51      0.50      0.49       488\n",
      "weighted avg       0.81      0.87      0.84       488\n",
      "\n"
     ]
    }
   ],
   "source": [
    "lr = LogisticRegression(solver='liblinear')\n",
    "lr.fit(X_train, y_train)\n",
    "\n",
    "y_pred_lr = lr.predict(X_test)\n",
    "clf_report = classification_report(y_test, y_pred_lr)\n",
    "print(f\"Classification Report : \\n{clf_report}\")"
   ]
  },
  {
   "cell_type": "markdown",
   "id": "7df2cf41",
   "metadata": {},
   "source": [
    "The classification report provides a comprehensive evaluation of the performance of the `Logistic Regression classifier` on the test data. Here's a breakdown of the key metrics:\n",
    "\n",
    "1. **Precision**:\n",
    "   - Precision measures the proportion of true positive predictions among all positive predictions made by the classifier.\n",
    "   - For class 0, the precision is 0.90, indicating that 90% of the appointments predicted as not showing up were correct.\n",
    "   - For class 1, the precision is 0.12, suggesting that only 12% of the appointments predicted as showing up were correct.\n",
    "\n",
    "2. **Recall**:\n",
    "   - Recall measures the proportion of true positive predictions among all actual positive instances in the dataset.\n",
    "   - For class 0, the recall is 0.97, indicating that 97% of the actual no-show appointments were correctly predicted by the classifier.\n",
    "   - For class 1, the recall is 0.04, suggesting that only 4% of the actual showing up appointments were correctly predicted by the classifier.\n",
    "\n",
    "3. **F1-score**:\n",
    "   - The F1-score is the harmonic mean of precision and recall, providing a balanced measure that considers both false positives and false negatives.\n",
    "   - For class 0, the F1-score is 0.93, indicating a good balance between precision and recall for predicting no-show appointments.\n",
    "   - For class 1, the F1-score is 0.06, suggesting poor performance in predicting showing up appointments due to low precision and recall.\n",
    "\n",
    "4. **Support**:\n",
    "   - Support represents the number of actual occurrences of each class in the test dataset.\n",
    "   - There are 437 instances of class 0 (no-show appointments) and 51 instances of class 1 (showing up appointments) in the test dataset.\n",
    "\n",
    "5. **Accuracy**:\n",
    "   - Accuracy measures the overall correctness of the classifier across all classes.\n",
    "   - The overall accuracy of the classifier is 0.87, indicating that 87% of the appointments were correctly classified.\n",
    "\n",
    "6. **Macro Avg and Weighted Avg**:\n",
    "   - Macro avg computes the unweighted mean of precision, recall, and F1-score across all classes, treating each class equally.\n",
    "   - Weighted avg computes the weighted average of precision, recall, and F1-score across all classes, taking into account the number of instances of each class.\n",
    "   - The macro avg and weighted avg F1-scores are both low, suggesting that the classifier's performance is significantly impacted by the imbalance in class distribution.\n",
    "\n",
    "This classification report indicates that the Logistic Regression classifier performs well in predicting no-show appointments (class 0) but struggles to predict showing up appointments (class 1) due to low precision, recall, and F1-score for class 1. "
   ]
  },
  {
   "cell_type": "markdown",
   "id": "52afb749",
   "metadata": {},
   "source": [
    "### Training a K-Nearest Neighbors (KNN) classifier (KNeighborsClassifier) using the training data (X_train and y_train), makes predictions on the test data (X_test), and generates a classification report using scikit-learn's classification_report function."
   ]
  },
  {
   "cell_type": "code",
   "execution_count": 25,
   "id": "99c41723",
   "metadata": {
    "execution": {
     "iopub.execute_input": "2021-12-13T12:15:29.251275Z",
     "iopub.status.busy": "2021-12-13T12:15:29.250403Z",
     "iopub.status.idle": "2021-12-13T12:15:29.289589Z",
     "shell.execute_reply": "2021-12-13T12:15:29.290340Z",
     "shell.execute_reply.started": "2021-12-13T12:13:05.814137Z"
    },
    "papermill": {
     "duration": 0.100348,
     "end_time": "2021-12-13T12:15:29.290817",
     "exception": false,
     "start_time": "2021-12-13T12:15:29.190469",
     "status": "completed"
    },
    "tags": []
   },
   "outputs": [
    {
     "name": "stdout",
     "output_type": "stream",
     "text": [
      "Classification Report : \n",
      "              precision    recall  f1-score   support\n",
      "\n",
      "           0       0.91      0.96      0.93       437\n",
      "           1       0.30      0.14      0.19        51\n",
      "\n",
      "    accuracy                           0.88       488\n",
      "   macro avg       0.60      0.55      0.56       488\n",
      "weighted avg       0.84      0.88      0.86       488\n",
      "\n"
     ]
    }
   ],
   "source": [
    "knn = KNeighborsClassifier()\n",
    "knn.fit(X_train, y_train)\n",
    "\n",
    "y_pred_knn = knn.predict(X_test)\n",
    "\n",
    "clf_report = classification_report(y_test, y_pred_knn)\n",
    "print(f\"Classification Report : \\n{clf_report}\")"
   ]
  },
  {
   "cell_type": "markdown",
   "id": "94a32a11",
   "metadata": {},
   "source": [
    "The classification report provides an evaluation of the performance of the `K-Nearest Neighbors (KNN) classifier` on the test data. Here's a breakdown of the key metrics:\n",
    "\n",
    "1. **Precision**:\n",
    "   - Precision measures the proportion of true positive predictions among all positive predictions made by the classifier.\n",
    "   - For class 0, the precision is 0.91, indicating that 91% of the appointments predicted as not showing up were correct.\n",
    "   - For class 1, the precision is 0.30, suggesting that only 30% of the appointments predicted as showing up were correct.\n",
    "\n",
    "2. **Recall**:\n",
    "   - Recall measures the proportion of true positive predictions among all actual positive instances in the dataset.\n",
    "   - For class 0, the recall is 0.96, indicating that 96% of the actual no-show appointments were correctly predicted by the classifier.\n",
    "   - For class 1, the recall is 0.14, suggesting that only 14% of the actual showing up appointments were correctly predicted by the classifier.\n",
    "\n",
    "3. **F1-score**:\n",
    "   - The F1-score is the harmonic mean of precision and recall, providing a balanced measure that considers both false positives and false negatives.\n",
    "   - For class 0, the F1-score is 0.93, indicating a good balance between precision and recall for predicting no-show appointments.\n",
    "   - For class 1, the F1-score is 0.19, suggesting poor performance in predicting showing up appointments due to low precision and recall.\n",
    "\n",
    "4. **Support**:\n",
    "   - Support represents the number of actual occurrences of each class in the test dataset.\n",
    "   - There are 437 instances of class 0 (no-show appointments) and 51 instances of class 1 (showing up appointments) in the test dataset.\n",
    "\n",
    "5. **Accuracy**:\n",
    "   - Accuracy measures the overall correctness of the classifier across all classes.\n",
    "   - The overall accuracy of the classifier is 0.88, indicating that 88% of the appointments were correctly classified.\n",
    "\n",
    "6. **Macro Avg and Weighted Avg**:\n",
    "   - Macro avg computes the unweighted mean of precision, recall, and F1-score across all classes, treating each class equally.\n",
    "   - Weighted avg computes the weighted average of precision, recall, and F1-score across all classes, taking into account the number of instances of each class.\n",
    "   - The macro avg and weighted avg F1-scores are lower compared to the Logistic Regression classifier, indicating that the overall performance of the KNN classifier is slightly worse.\n",
    "\n",
    "The classification report suggests that the KNN classifier performs reasonably well in predicting no-show appointments (class 0) but struggles to predict showing up appointments (class 1) due to low precision, recall, and F1-score for class 1."
   ]
  },
  {
   "cell_type": "markdown",
   "id": "eade0bee",
   "metadata": {},
   "source": [
    "### Training a Random Forest classifier (RandomForestClassifier) using the training data (X_train and y_train), makes predictions on the test data (X_test), and generates a classification report using scikit-learn's classification_report function."
   ]
  },
  {
   "cell_type": "code",
   "execution_count": 26,
   "id": "445c96ab",
   "metadata": {
    "execution": {
     "iopub.execute_input": "2021-12-13T12:15:29.354590Z",
     "iopub.status.busy": "2021-12-13T12:15:29.353496Z",
     "iopub.status.idle": "2021-12-13T12:15:29.661245Z",
     "shell.execute_reply": "2021-12-13T12:15:29.662098Z",
     "shell.execute_reply.started": "2021-12-13T12:13:19.245772Z"
    },
    "papermill": {
     "duration": 0.341379,
     "end_time": "2021-12-13T12:15:29.662379",
     "exception": false,
     "start_time": "2021-12-13T12:15:29.321000",
     "status": "completed"
    },
    "tags": []
   },
   "outputs": [
    {
     "name": "stdout",
     "output_type": "stream",
     "text": [
      "Classification Report : \n",
      "              precision    recall  f1-score   support\n",
      "\n",
      "           0       0.94      0.96      0.95       437\n",
      "           1       0.58      0.43      0.49        51\n",
      "\n",
      "    accuracy                           0.91       488\n",
      "   macro avg       0.76      0.70      0.72       488\n",
      "weighted avg       0.90      0.91      0.90       488\n",
      "\n"
     ]
    }
   ],
   "source": [
    "rd_clf = RandomForestClassifier()\n",
    "rd_clf.fit(X_train, y_train)\n",
    "\n",
    "y_pred_rd_clf = rd_clf.predict(X_test)\n",
    "clf_report = classification_report(y_test, y_pred_rd_clf)\n",
    "\n",
    "print(f\"Classification Report : \\n{clf_report}\")"
   ]
  },
  {
   "cell_type": "markdown",
   "id": "e6c088b8",
   "metadata": {},
   "source": [
    "The classification report provides an evaluation of the performance of the `Random Forest classifier` on the test data. Here's a breakdown of the key metrics:\n",
    "\n",
    "1. **Precision**:\n",
    "   - Precision measures the proportion of true positive predictions among all positive predictions made by the classifier.\n",
    "   - For class 0, the precision is 0.94, indicating that 94% of the appointments predicted as not showing up were correct.\n",
    "   - For class 1, the precision is 0.58, suggesting that 58% of the appointments predicted as showing up were correct.\n",
    "\n",
    "2. **Recall**:\n",
    "   - Recall measures the proportion of true positive predictions among all actual positive instances in the dataset.\n",
    "   - For class 0, the recall is 0.96, indicating that 96% of the actual no-show appointments were correctly predicted by the classifier.\n",
    "   - For class 1, the recall is 0.43, suggesting that 43% of the actual showing up appointments were correctly predicted by the classifier.\n",
    "\n",
    "3. **F1-score**:\n",
    "   - The F1-score is the harmonic mean of precision and recall, providing a balanced measure that considers both false positives and false negatives.\n",
    "   - For class 0, the F1-score is 0.95, indicating a good balance between precision and recall for predicting no-show appointments.\n",
    "   - For class 1, the F1-score is 0.49, suggesting moderate performance in predicting showing up appointments.\n",
    "\n",
    "4. **Support**:\n",
    "   - Support represents the number of actual occurrences of each class in the test dataset.\n",
    "   - There are 437 instances of class 0 (no-show appointments) and 51 instances of class 1 (showing up appointments) in the test dataset.\n",
    "\n",
    "5. **Accuracy**:\n",
    "   - Accuracy measures the overall correctness of the classifier across all classes.\n",
    "   - The overall accuracy of the classifier is 0.91, indicating that 91% of the appointments were correctly classified.\n",
    "\n",
    "6. **Macro Avg and Weighted Avg**:\n",
    "   - Macro avg computes the unweighted mean of precision, recall, and F1-score across all classes, treating each class equally.\n",
    "   - Weighted avg computes the weighted average of precision, recall, and F1-score across all classes, taking into account the number of instances of each class.\n",
    "   - The macro avg and weighted avg F1-scores are higher compared to both Logistic Regression and K-Nearest Neighbors classifiers, indicating that the overall performance of the Random Forest classifier is better.\n",
    "\n",
    "Overall, the classification report suggests that the Random Forest classifier performs well in predicting no-show appointments (class 0) and shows moderate performance in predicting showing up appointments (class 1)."
   ]
  },
  {
   "cell_type": "markdown",
   "id": "962a09a9",
   "metadata": {},
   "source": [
    "### Training an AdaBoost classifier (AdaBoostClassifier) using the training data (X_train and y_train), makes predictions on the test data (X_test), and generates a classification report using scikit-learn's classification_report function."
   ]
  },
  {
   "cell_type": "code",
   "execution_count": 27,
   "id": "664d6296",
   "metadata": {
    "execution": {
     "iopub.execute_input": "2021-12-13T12:15:29.730783Z",
     "iopub.status.busy": "2021-12-13T12:15:29.730003Z",
     "iopub.status.idle": "2021-12-13T12:15:29.879338Z",
     "shell.execute_reply": "2021-12-13T12:15:29.878616Z",
     "shell.execute_reply.started": "2021-12-13T12:13:56.067170Z"
    },
    "papermill": {
     "duration": 0.186022,
     "end_time": "2021-12-13T12:15:29.879499",
     "exception": false,
     "start_time": "2021-12-13T12:15:29.693477",
     "status": "completed"
    },
    "tags": []
   },
   "outputs": [
    {
     "name": "stdout",
     "output_type": "stream",
     "text": [
      "Classification Report : \n",
      "              precision    recall  f1-score   support\n",
      "\n",
      "           0       0.93      0.95      0.94       437\n",
      "           1       0.45      0.35      0.40        51\n",
      "\n",
      "    accuracy                           0.89       488\n",
      "   macro avg       0.69      0.65      0.67       488\n",
      "weighted avg       0.88      0.89      0.88       488\n",
      "\n"
     ]
    },
    {
     "name": "stderr",
     "output_type": "stream",
     "text": [
      "c:\\Users\\DELL\\Desktop\\Class\\venv\\CSCN8010_classic_ml\\Lib\\site-packages\\sklearn\\ensemble\\_weight_boosting.py:519: FutureWarning: The SAMME.R algorithm (the default) is deprecated and will be removed in 1.6. Use the SAMME algorithm to circumvent this warning.\n",
      "  warnings.warn(\n"
     ]
    }
   ],
   "source": [
    "ada = AdaBoostClassifier()\n",
    "ada.fit(X_train, y_train)\n",
    "\n",
    "y_pred_ada = ada.predict(X_test)\n",
    "clf_report = classification_report(y_test, y_pred_ada)\n",
    "\n",
    "print(f\"Classification Report : \\n{clf_report}\")"
   ]
  },
  {
   "cell_type": "markdown",
   "id": "ae93e8e0",
   "metadata": {},
   "source": [
    "The classification report provides an evaluation of the performance of the `AdaBoost classifier` on the test data. Here's a breakdown of the key metrics:\n",
    "\n",
    "1. **Precision**:\n",
    "   - Precision measures the proportion of true positive predictions among all positive predictions made by the classifier.\n",
    "   - For class 0, the precision is 0.93, indicating that 93% of the appointments predicted as not showing up were correct.\n",
    "   - For class 1, the precision is 0.45, suggesting that 45% of the appointments predicted as showing up were correct.\n",
    "\n",
    "2. **Recall**:\n",
    "   - Recall measures the proportion of true positive predictions among all actual positive instances in the dataset.\n",
    "   - For class 0, the recall is 0.95, indicating that 95% of the actual no-show appointments were correctly predicted by the classifier.\n",
    "   - For class 1, the recall is 0.35, suggesting that 35% of the actual showing up appointments were correctly predicted by the classifier.\n",
    "\n",
    "3. **F1-score**:\n",
    "   - The F1-score is the harmonic mean of precision and recall, providing a balanced measure that considers both false positives and false negatives.\n",
    "   - For class 0, the F1-score is 0.94, indicating a good balance between precision and recall for predicting no-show appointments.\n",
    "   - For class 1, the F1-score is 0.40, suggesting moderate performance in predicting showing up appointments.\n",
    "\n",
    "4. **Support**:\n",
    "   - Support represents the number of actual occurrences of each class in the test dataset.\n",
    "   - There are 437 instances of class 0 (no-show appointments) and 51 instances of class 1 (showing up appointments) in the test dataset.\n",
    "\n",
    "5. **Accuracy**:\n",
    "   - Accuracy measures the overall correctness of the classifier across all classes.\n",
    "   - The overall accuracy of the classifier is 0.89, indicating that 89% of the appointments were correctly classified.\n",
    "\n",
    "6. **Macro Avg and Weighted Avg**:\n",
    "   - Macro avg computes the unweighted mean of precision, recall, and F1-score across all classes, treating each class equally.\n",
    "   - Weighted avg computes the weighted average of precision, recall, and F1-score across all classes, taking into account the number of instances of each class.\n",
    "   - The macro avg and weighted avg F1-scores are lower compared to the Random Forest classifier, indicating that the overall performance of the AdaBoost classifier is slightly worse.\n",
    "\n",
    "The classification report suggests that the AdaBoost classifier performs well in predicting no-show appointments (class 0) but shows moderate performance in predicting showing up appointments (class 1)."
   ]
  },
  {
   "cell_type": "markdown",
   "id": "abb78923",
   "metadata": {},
   "source": [
    "### Training a Gradient Boosting classifier (GradientBoostingClassifier) using the training data (X_train and y_train), makes predictions on the test data (X_test), and generates a classification report using scikit-learn's classification_report function."
   ]
  },
  {
   "cell_type": "code",
   "execution_count": 28,
   "id": "c1d2c14d",
   "metadata": {
    "execution": {
     "iopub.execute_input": "2021-12-13T12:15:29.950964Z",
     "iopub.status.busy": "2021-12-13T12:15:29.950230Z",
     "iopub.status.idle": "2021-12-13T12:15:30.185442Z",
     "shell.execute_reply": "2021-12-13T12:15:30.184882Z",
     "shell.execute_reply.started": "2021-12-13T12:14:17.781569Z"
    },
    "papermill": {
     "duration": 0.274188,
     "end_time": "2021-12-13T12:15:30.185625",
     "exception": false,
     "start_time": "2021-12-13T12:15:29.911437",
     "status": "completed"
    },
    "tags": []
   },
   "outputs": [
    {
     "name": "stdout",
     "output_type": "stream",
     "text": [
      "Classification Report : \n",
      "              precision    recall  f1-score   support\n",
      "\n",
      "           0       0.96      0.95      0.95       437\n",
      "           1       0.60      0.65      0.62        51\n",
      "\n",
      "    accuracy                           0.92       488\n",
      "   macro avg       0.78      0.80      0.79       488\n",
      "weighted avg       0.92      0.92      0.92       488\n",
      "\n"
     ]
    }
   ],
   "source": [
    "gb = GradientBoostingClassifier()\n",
    "gb.fit(X_train, y_train)\n",
    "\n",
    "y_pred_gb = gb.predict(X_test)\n",
    "clf_report = classification_report(y_test, y_pred_gb)\n",
    "\n",
    "print(f\"Classification Report : \\n{clf_report}\")"
   ]
  },
  {
   "cell_type": "markdown",
   "id": "c67922ba",
   "metadata": {},
   "source": [
    "The classification report provides an evaluation of the performance of the `Gradient Boosting classifier` on the test data. Here's a breakdown of the key metrics:\n",
    "\n",
    "1. **Precision**:\n",
    "   - Precision measures the proportion of true positive predictions among all positive predictions made by the classifier.\n",
    "   - For class 0, the precision is 0.96, indicating that 96% of the appointments predicted as not showing up were correct.\n",
    "   - For class 1, the precision is 0.60, suggesting that 60% of the appointments predicted as showing up were correct.\n",
    "\n",
    "2. **Recall**:\n",
    "   - Recall measures the proportion of true positive predictions among all actual positive instances in the dataset.\n",
    "   - For class 0, the recall is 0.95, indicating that 95% of the actual no-show appointments were correctly predicted by the classifier.\n",
    "   - For class 1, the recall is 0.65, suggesting that 65% of the actual showing up appointments were correctly predicted by the classifier.\n",
    "\n",
    "3. **F1-score**:\n",
    "   - The F1-score is the harmonic mean of precision and recall, providing a balanced measure that considers both false positives and false negatives.\n",
    "   - For class 0, the F1-score is 0.95, indicating a good balance between precision and recall for predicting no-show appointments.\n",
    "   - For class 1, the F1-score is 0.62, suggesting moderate performance in predicting showing up appointments.\n",
    "\n",
    "4. **Support**:\n",
    "   - Support represents the number of actual occurrences of each class in the test dataset.\n",
    "   - There are 437 instances of class 0 (no-show appointments) and 51 instances of class 1 (showing up appointments) in the test dataset.\n",
    "\n",
    "5. **Accuracy**:\n",
    "   - Accuracy measures the overall correctness of the classifier across all classes.\n",
    "   - The overall accuracy of the classifier is 0.92, indicating that 92% of the appointments were correctly classified.\n",
    "\n",
    "6. **Macro Avg and Weighted Avg**:\n",
    "   - Macro avg computes the unweighted mean of precision, recall, and F1-score across all classes, treating each class equally.\n",
    "   - Weighted avg computes the weighted average of precision, recall, and F1-score across all classes, taking into account the number of instances of each class.\n",
    "   - The macro avg and weighted avg F1-scores are higher compared to previous classifiers, indicating that the overall performance of the Gradient Boosting classifier is better.\n",
    "\n",
    "The classification report suggests that the Gradient Boosting classifier performs well in predicting both no-show appointments (class 0) and showing up appointments (class 1), with higher precision, recall, and F1-score for both classes compared to previous classifiers."
   ]
  }
 ],
 "metadata": {
  "kernelspec": {
   "display_name": "Python 3",
   "language": "python",
   "name": "python3"
  },
  "language_info": {
   "codemirror_mode": {
    "name": "ipython",
    "version": 3
   },
   "file_extension": ".py",
   "mimetype": "text/x-python",
   "name": "python",
   "nbconvert_exporter": "python",
   "pygments_lexer": "ipython3",
   "version": "3.7.12"
  },
  "papermill": {
   "default_parameters": {},
   "duration": 17.506605,
   "end_time": "2021-12-13T12:15:31.130457",
   "environment_variables": {},
   "exception": null,
   "input_path": "__notebook__.ipynb",
   "output_path": "__notebook__.ipynb",
   "parameters": {},
   "start_time": "2021-12-13T12:15:13.623852",
   "version": "2.3.3"
  }
 },
 "nbformat": 4,
 "nbformat_minor": 5
}
